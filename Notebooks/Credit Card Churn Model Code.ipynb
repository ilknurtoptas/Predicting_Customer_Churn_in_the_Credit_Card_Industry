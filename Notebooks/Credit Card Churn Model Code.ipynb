{
 "cells": [
  {
   "cell_type": "markdown",
   "id": "6e007af7",
   "metadata": {},
   "source": [
    "# Predicting Customer Churn in the Credit Card Industry"
   ]
  },
  {
   "cell_type": "markdown",
   "id": "1024c51d",
   "metadata": {},
   "source": [
    "## Load Cleaned Data from AWS RDS\n",
    "This step connects securely to the PostgreSQL database hosted on AWS RDS and retrieves the cleaned `churn_customers` dataset.\n"
   ]
  },
  {
   "cell_type": "code",
   "execution_count": null,
   "id": "b8ae0008",
   "metadata": {},
   "outputs": [
    {
     "name": "stdout",
     "output_type": "stream",
     "text": [
      "Data loaded from AWS RDS\n"
     ]
    },
    {
     "data": {
      "application/vnd.microsoft.datawrangler.viewer.v0+json": {
       "columns": [
        {
         "name": "index",
         "rawType": "int64",
         "type": "integer"
        },
        {
         "name": "CLIENTNUM",
         "rawType": "int64",
         "type": "integer"
        },
        {
         "name": "Customer_Age",
         "rawType": "int64",
         "type": "integer"
        },
        {
         "name": "Gender",
         "rawType": "int64",
         "type": "integer"
        },
        {
         "name": "Dependent_count",
         "rawType": "int64",
         "type": "integer"
        },
        {
         "name": "Education_Level",
         "rawType": "int64",
         "type": "integer"
        },
        {
         "name": "Marital_Status",
         "rawType": "int64",
         "type": "integer"
        },
        {
         "name": "Income_Category",
         "rawType": "int64",
         "type": "integer"
        },
        {
         "name": "Card_Category",
         "rawType": "int64",
         "type": "integer"
        },
        {
         "name": "Months_on_book",
         "rawType": "int64",
         "type": "integer"
        },
        {
         "name": "Total_Relationship_Count",
         "rawType": "int64",
         "type": "integer"
        },
        {
         "name": "Months_Inactive_12_mon",
         "rawType": "int64",
         "type": "integer"
        },
        {
         "name": "Contacts_Count_12_mon",
         "rawType": "int64",
         "type": "integer"
        },
        {
         "name": "Credit_Limit",
         "rawType": "float64",
         "type": "float"
        },
        {
         "name": "Total_Revolving_Bal",
         "rawType": "int64",
         "type": "integer"
        },
        {
         "name": "Avg_Open_To_Buy",
         "rawType": "float64",
         "type": "float"
        },
        {
         "name": "Total_Amt_Chng_Q4_Q1",
         "rawType": "float64",
         "type": "float"
        },
        {
         "name": "Total_Trans_Amt",
         "rawType": "int64",
         "type": "integer"
        },
        {
         "name": "Total_Trans_Ct",
         "rawType": "int64",
         "type": "integer"
        },
        {
         "name": "Total_Ct_Chng_Q4_Q1",
         "rawType": "float64",
         "type": "float"
        },
        {
         "name": "Avg_Utilization_Ratio",
         "rawType": "float64",
         "type": "float"
        },
        {
         "name": "Churn",
         "rawType": "int64",
         "type": "integer"
        }
       ],
       "conversionMethod": "pd.DataFrame",
       "ref": "01dc6616-2334-4c1e-b0e8-72d971926377",
       "rows": [
        [
         "0",
         "768805383",
         "45",
         "1",
         "3",
         "1",
         "1",
         "2",
         "0",
         "39",
         "5",
         "1",
         "3",
         "12691.0",
         "777",
         "11914.0",
         "1.335",
         "1144",
         "42",
         "1.625",
         "0.061",
         "1"
        ],
        [
         "1",
         "818770008",
         "49",
         "0",
         "5",
         "3",
         "0",
         "0",
         "0",
         "44",
         "6",
         "1",
         "2",
         "8256.0",
         "864",
         "7392.0",
         "1.541",
         "1291",
         "33",
         "3.714",
         "0.105",
         "1"
        ],
        [
         "2",
         "713982108",
         "51",
         "1",
         "3",
         "3",
         "1",
         "3",
         "0",
         "36",
         "4",
         "1",
         "0",
         "3418.0",
         "0",
         "3418.0",
         "2.594",
         "1887",
         "20",
         "2.333",
         "0.0",
         "1"
        ],
        [
         "3",
         "769911858",
         "40",
         "0",
         "4",
         "1",
         "-1",
         "0",
         "0",
         "34",
         "3",
         "4",
         "1",
         "3313.0",
         "2517",
         "796.0",
         "1.405",
         "1171",
         "20",
         "2.333",
         "0.76",
         "1"
        ],
        [
         "4",
         "709106358",
         "40",
         "1",
         "3",
         "0",
         "1",
         "2",
         "0",
         "21",
         "5",
         "1",
         "0",
         "4716.0",
         "0",
         "4716.0",
         "2.175",
         "816",
         "28",
         "2.5",
         "0.0",
         "1"
        ]
       ],
       "shape": {
        "columns": 21,
        "rows": 5
       }
      },
      "text/html": [
       "<div>\n",
       "<style scoped>\n",
       "    .dataframe tbody tr th:only-of-type {\n",
       "        vertical-align: middle;\n",
       "    }\n",
       "\n",
       "    .dataframe tbody tr th {\n",
       "        vertical-align: top;\n",
       "    }\n",
       "\n",
       "    .dataframe thead th {\n",
       "        text-align: right;\n",
       "    }\n",
       "</style>\n",
       "<table border=\"1\" class=\"dataframe\">\n",
       "  <thead>\n",
       "    <tr style=\"text-align: right;\">\n",
       "      <th></th>\n",
       "      <th>CLIENTNUM</th>\n",
       "      <th>Customer_Age</th>\n",
       "      <th>Gender</th>\n",
       "      <th>Dependent_count</th>\n",
       "      <th>Education_Level</th>\n",
       "      <th>Marital_Status</th>\n",
       "      <th>Income_Category</th>\n",
       "      <th>Card_Category</th>\n",
       "      <th>Months_on_book</th>\n",
       "      <th>Total_Relationship_Count</th>\n",
       "      <th>...</th>\n",
       "      <th>Contacts_Count_12_mon</th>\n",
       "      <th>Credit_Limit</th>\n",
       "      <th>Total_Revolving_Bal</th>\n",
       "      <th>Avg_Open_To_Buy</th>\n",
       "      <th>Total_Amt_Chng_Q4_Q1</th>\n",
       "      <th>Total_Trans_Amt</th>\n",
       "      <th>Total_Trans_Ct</th>\n",
       "      <th>Total_Ct_Chng_Q4_Q1</th>\n",
       "      <th>Avg_Utilization_Ratio</th>\n",
       "      <th>Churn</th>\n",
       "    </tr>\n",
       "  </thead>\n",
       "  <tbody>\n",
       "    <tr>\n",
       "      <th>0</th>\n",
       "      <td>768805383</td>\n",
       "      <td>45</td>\n",
       "      <td>1</td>\n",
       "      <td>3</td>\n",
       "      <td>1</td>\n",
       "      <td>1</td>\n",
       "      <td>2</td>\n",
       "      <td>0</td>\n",
       "      <td>39</td>\n",
       "      <td>5</td>\n",
       "      <td>...</td>\n",
       "      <td>3</td>\n",
       "      <td>12691.0</td>\n",
       "      <td>777</td>\n",
       "      <td>11914.0</td>\n",
       "      <td>1.335</td>\n",
       "      <td>1144</td>\n",
       "      <td>42</td>\n",
       "      <td>1.625</td>\n",
       "      <td>0.061</td>\n",
       "      <td>1</td>\n",
       "    </tr>\n",
       "    <tr>\n",
       "      <th>1</th>\n",
       "      <td>818770008</td>\n",
       "      <td>49</td>\n",
       "      <td>0</td>\n",
       "      <td>5</td>\n",
       "      <td>3</td>\n",
       "      <td>0</td>\n",
       "      <td>0</td>\n",
       "      <td>0</td>\n",
       "      <td>44</td>\n",
       "      <td>6</td>\n",
       "      <td>...</td>\n",
       "      <td>2</td>\n",
       "      <td>8256.0</td>\n",
       "      <td>864</td>\n",
       "      <td>7392.0</td>\n",
       "      <td>1.541</td>\n",
       "      <td>1291</td>\n",
       "      <td>33</td>\n",
       "      <td>3.714</td>\n",
       "      <td>0.105</td>\n",
       "      <td>1</td>\n",
       "    </tr>\n",
       "    <tr>\n",
       "      <th>2</th>\n",
       "      <td>713982108</td>\n",
       "      <td>51</td>\n",
       "      <td>1</td>\n",
       "      <td>3</td>\n",
       "      <td>3</td>\n",
       "      <td>1</td>\n",
       "      <td>3</td>\n",
       "      <td>0</td>\n",
       "      <td>36</td>\n",
       "      <td>4</td>\n",
       "      <td>...</td>\n",
       "      <td>0</td>\n",
       "      <td>3418.0</td>\n",
       "      <td>0</td>\n",
       "      <td>3418.0</td>\n",
       "      <td>2.594</td>\n",
       "      <td>1887</td>\n",
       "      <td>20</td>\n",
       "      <td>2.333</td>\n",
       "      <td>0.000</td>\n",
       "      <td>1</td>\n",
       "    </tr>\n",
       "    <tr>\n",
       "      <th>3</th>\n",
       "      <td>769911858</td>\n",
       "      <td>40</td>\n",
       "      <td>0</td>\n",
       "      <td>4</td>\n",
       "      <td>1</td>\n",
       "      <td>-1</td>\n",
       "      <td>0</td>\n",
       "      <td>0</td>\n",
       "      <td>34</td>\n",
       "      <td>3</td>\n",
       "      <td>...</td>\n",
       "      <td>1</td>\n",
       "      <td>3313.0</td>\n",
       "      <td>2517</td>\n",
       "      <td>796.0</td>\n",
       "      <td>1.405</td>\n",
       "      <td>1171</td>\n",
       "      <td>20</td>\n",
       "      <td>2.333</td>\n",
       "      <td>0.760</td>\n",
       "      <td>1</td>\n",
       "    </tr>\n",
       "    <tr>\n",
       "      <th>4</th>\n",
       "      <td>709106358</td>\n",
       "      <td>40</td>\n",
       "      <td>1</td>\n",
       "      <td>3</td>\n",
       "      <td>0</td>\n",
       "      <td>1</td>\n",
       "      <td>2</td>\n",
       "      <td>0</td>\n",
       "      <td>21</td>\n",
       "      <td>5</td>\n",
       "      <td>...</td>\n",
       "      <td>0</td>\n",
       "      <td>4716.0</td>\n",
       "      <td>0</td>\n",
       "      <td>4716.0</td>\n",
       "      <td>2.175</td>\n",
       "      <td>816</td>\n",
       "      <td>28</td>\n",
       "      <td>2.500</td>\n",
       "      <td>0.000</td>\n",
       "      <td>1</td>\n",
       "    </tr>\n",
       "  </tbody>\n",
       "</table>\n",
       "<p>5 rows × 21 columns</p>\n",
       "</div>"
      ],
      "text/plain": [
       "   CLIENTNUM  Customer_Age  Gender  Dependent_count  Education_Level  \\\n",
       "0  768805383            45       1                3                1   \n",
       "1  818770008            49       0                5                3   \n",
       "2  713982108            51       1                3                3   \n",
       "3  769911858            40       0                4                1   \n",
       "4  709106358            40       1                3                0   \n",
       "\n",
       "   Marital_Status  Income_Category  Card_Category  Months_on_book  \\\n",
       "0               1                2              0              39   \n",
       "1               0                0              0              44   \n",
       "2               1                3              0              36   \n",
       "3              -1                0              0              34   \n",
       "4               1                2              0              21   \n",
       "\n",
       "   Total_Relationship_Count  ...  Contacts_Count_12_mon  Credit_Limit  \\\n",
       "0                         5  ...                      3       12691.0   \n",
       "1                         6  ...                      2        8256.0   \n",
       "2                         4  ...                      0        3418.0   \n",
       "3                         3  ...                      1        3313.0   \n",
       "4                         5  ...                      0        4716.0   \n",
       "\n",
       "   Total_Revolving_Bal  Avg_Open_To_Buy  Total_Amt_Chng_Q4_Q1  \\\n",
       "0                  777          11914.0                 1.335   \n",
       "1                  864           7392.0                 1.541   \n",
       "2                    0           3418.0                 2.594   \n",
       "3                 2517            796.0                 1.405   \n",
       "4                    0           4716.0                 2.175   \n",
       "\n",
       "   Total_Trans_Amt  Total_Trans_Ct  Total_Ct_Chng_Q4_Q1  \\\n",
       "0             1144              42                1.625   \n",
       "1             1291              33                3.714   \n",
       "2             1887              20                2.333   \n",
       "3             1171              20                2.333   \n",
       "4              816              28                2.500   \n",
       "\n",
       "   Avg_Utilization_Ratio  Churn  \n",
       "0                  0.061      1  \n",
       "1                  0.105      1  \n",
       "2                  0.000      1  \n",
       "3                  0.760      1  \n",
       "4                  0.000      1  \n",
       "\n",
       "[5 rows x 21 columns]"
      ]
     },
     "execution_count": 2,
     "metadata": {},
     "output_type": "execute_result"
    }
   ],
   "source": [
    "from sqlalchemy import create_engine\n",
    "import pandas as pd\n",
    "import getpass\n",
    "\n",
    "# Securely fetch RDS credentials\n",
    "db_user = 'postgres'\n",
    "db_password = getpass.getpass(\"Enter your RDS password: \")\n",
    "db_host = 'churndb.c9y8o80emv53.us-east-2.rds.amazonaws.com'\n",
    "db_name = 'churndb'\n",
    "\n",
    "# Connect and read data\n",
    "engine = create_engine(f'postgresql://{db_user}:{db_password}@{db_host}:5432/{db_name}?sslmode=require')\n",
    "df = pd.read_sql(\"SELECT * FROM churn_customers\", engine)\n",
    "\n",
    "print(\"Data loaded from AWS RDS\")\n",
    "df.head()\n",
    "\n"
   ]
  },
  {
   "cell_type": "code",
   "execution_count": null,
   "id": "6aefd42d",
   "metadata": {},
   "outputs": [
    {
     "name": "stdout",
     "output_type": "stream",
     "text": [
      "Uploaded cleaned data to AWS RDS\n"
     ]
    }
   ],
   "source": [
    "from sqlalchemy import create_engine\n",
    "import getpass\n",
    "\n",
    "db_user = 'postgres'\n",
    "db_password = getpass.getpass(\"Enter your RDS password: \")\n",
    "db_host = 'churndb.c9y8o80emv53.us-east-2.rds.amazonaws.com'\n",
    "db_name = 'churndb'\n",
    "engine = create_engine(f'postgresql://{db_user}:{db_password}@{db_host}:5432/{db_name}')\n",
    "df.to_sql('churn_customers', engine, index=False, if_exists='replace')\n",
    "print(\"Uploaded cleaned data to AWS RDS\")"
   ]
  },
  {
   "cell_type": "markdown",
   "id": "906a6654",
   "metadata": {},
   "source": [
    "## Load All Data for Modeling (From AWS)"
   ]
  },
  {
   "cell_type": "code",
   "execution_count": 5,
   "id": "17489b6e",
   "metadata": {},
   "outputs": [
    {
     "data": {
      "application/vnd.microsoft.datawrangler.viewer.v0+json": {
       "columns": [
        {
         "name": "index",
         "rawType": "int64",
         "type": "integer"
        },
        {
         "name": "CLIENTNUM",
         "rawType": "int64",
         "type": "integer"
        },
        {
         "name": "Customer_Age",
         "rawType": "int64",
         "type": "integer"
        },
        {
         "name": "Gender",
         "rawType": "int64",
         "type": "integer"
        },
        {
         "name": "Dependent_count",
         "rawType": "int64",
         "type": "integer"
        },
        {
         "name": "Education_Level",
         "rawType": "int64",
         "type": "integer"
        },
        {
         "name": "Marital_Status",
         "rawType": "int64",
         "type": "integer"
        },
        {
         "name": "Income_Category",
         "rawType": "int64",
         "type": "integer"
        },
        {
         "name": "Card_Category",
         "rawType": "int64",
         "type": "integer"
        },
        {
         "name": "Months_on_book",
         "rawType": "int64",
         "type": "integer"
        },
        {
         "name": "Total_Relationship_Count",
         "rawType": "int64",
         "type": "integer"
        },
        {
         "name": "Months_Inactive_12_mon",
         "rawType": "int64",
         "type": "integer"
        },
        {
         "name": "Contacts_Count_12_mon",
         "rawType": "int64",
         "type": "integer"
        },
        {
         "name": "Credit_Limit",
         "rawType": "float64",
         "type": "float"
        },
        {
         "name": "Total_Revolving_Bal",
         "rawType": "int64",
         "type": "integer"
        },
        {
         "name": "Avg_Open_To_Buy",
         "rawType": "float64",
         "type": "float"
        },
        {
         "name": "Total_Amt_Chng_Q4_Q1",
         "rawType": "float64",
         "type": "float"
        },
        {
         "name": "Total_Trans_Amt",
         "rawType": "int64",
         "type": "integer"
        },
        {
         "name": "Total_Trans_Ct",
         "rawType": "int64",
         "type": "integer"
        },
        {
         "name": "Total_Ct_Chng_Q4_Q1",
         "rawType": "float64",
         "type": "float"
        },
        {
         "name": "Avg_Utilization_Ratio",
         "rawType": "float64",
         "type": "float"
        },
        {
         "name": "Churn",
         "rawType": "int64",
         "type": "integer"
        }
       ],
       "conversionMethod": "pd.DataFrame",
       "ref": "3ec62008-77c9-4b2d-9a1e-1ca4d3094245",
       "rows": [
        [
         "0",
         "768805383",
         "45",
         "1",
         "3",
         "1",
         "1",
         "2",
         "0",
         "39",
         "5",
         "1",
         "3",
         "12691.0",
         "777",
         "11914.0",
         "1.335",
         "1144",
         "42",
         "1.625",
         "0.061",
         "1"
        ],
        [
         "1",
         "818770008",
         "49",
         "0",
         "5",
         "3",
         "0",
         "0",
         "0",
         "44",
         "6",
         "1",
         "2",
         "8256.0",
         "864",
         "7392.0",
         "1.541",
         "1291",
         "33",
         "3.714",
         "0.105",
         "1"
        ],
        [
         "2",
         "713982108",
         "51",
         "1",
         "3",
         "3",
         "1",
         "3",
         "0",
         "36",
         "4",
         "1",
         "0",
         "3418.0",
         "0",
         "3418.0",
         "2.594",
         "1887",
         "20",
         "2.333",
         "0.0",
         "1"
        ],
        [
         "3",
         "769911858",
         "40",
         "0",
         "4",
         "1",
         "-1",
         "0",
         "0",
         "34",
         "3",
         "4",
         "1",
         "3313.0",
         "2517",
         "796.0",
         "1.405",
         "1171",
         "20",
         "2.333",
         "0.76",
         "1"
        ],
        [
         "4",
         "709106358",
         "40",
         "1",
         "3",
         "0",
         "1",
         "2",
         "0",
         "21",
         "5",
         "1",
         "0",
         "4716.0",
         "0",
         "4716.0",
         "2.175",
         "816",
         "28",
         "2.5",
         "0.0",
         "1"
        ]
       ],
       "shape": {
        "columns": 21,
        "rows": 5
       }
      },
      "text/html": [
       "<div>\n",
       "<style scoped>\n",
       "    .dataframe tbody tr th:only-of-type {\n",
       "        vertical-align: middle;\n",
       "    }\n",
       "\n",
       "    .dataframe tbody tr th {\n",
       "        vertical-align: top;\n",
       "    }\n",
       "\n",
       "    .dataframe thead th {\n",
       "        text-align: right;\n",
       "    }\n",
       "</style>\n",
       "<table border=\"1\" class=\"dataframe\">\n",
       "  <thead>\n",
       "    <tr style=\"text-align: right;\">\n",
       "      <th></th>\n",
       "      <th>CLIENTNUM</th>\n",
       "      <th>Customer_Age</th>\n",
       "      <th>Gender</th>\n",
       "      <th>Dependent_count</th>\n",
       "      <th>Education_Level</th>\n",
       "      <th>Marital_Status</th>\n",
       "      <th>Income_Category</th>\n",
       "      <th>Card_Category</th>\n",
       "      <th>Months_on_book</th>\n",
       "      <th>Total_Relationship_Count</th>\n",
       "      <th>...</th>\n",
       "      <th>Contacts_Count_12_mon</th>\n",
       "      <th>Credit_Limit</th>\n",
       "      <th>Total_Revolving_Bal</th>\n",
       "      <th>Avg_Open_To_Buy</th>\n",
       "      <th>Total_Amt_Chng_Q4_Q1</th>\n",
       "      <th>Total_Trans_Amt</th>\n",
       "      <th>Total_Trans_Ct</th>\n",
       "      <th>Total_Ct_Chng_Q4_Q1</th>\n",
       "      <th>Avg_Utilization_Ratio</th>\n",
       "      <th>Churn</th>\n",
       "    </tr>\n",
       "  </thead>\n",
       "  <tbody>\n",
       "    <tr>\n",
       "      <th>0</th>\n",
       "      <td>768805383</td>\n",
       "      <td>45</td>\n",
       "      <td>1</td>\n",
       "      <td>3</td>\n",
       "      <td>1</td>\n",
       "      <td>1</td>\n",
       "      <td>2</td>\n",
       "      <td>0</td>\n",
       "      <td>39</td>\n",
       "      <td>5</td>\n",
       "      <td>...</td>\n",
       "      <td>3</td>\n",
       "      <td>12691.0</td>\n",
       "      <td>777</td>\n",
       "      <td>11914.0</td>\n",
       "      <td>1.335</td>\n",
       "      <td>1144</td>\n",
       "      <td>42</td>\n",
       "      <td>1.625</td>\n",
       "      <td>0.061</td>\n",
       "      <td>1</td>\n",
       "    </tr>\n",
       "    <tr>\n",
       "      <th>1</th>\n",
       "      <td>818770008</td>\n",
       "      <td>49</td>\n",
       "      <td>0</td>\n",
       "      <td>5</td>\n",
       "      <td>3</td>\n",
       "      <td>0</td>\n",
       "      <td>0</td>\n",
       "      <td>0</td>\n",
       "      <td>44</td>\n",
       "      <td>6</td>\n",
       "      <td>...</td>\n",
       "      <td>2</td>\n",
       "      <td>8256.0</td>\n",
       "      <td>864</td>\n",
       "      <td>7392.0</td>\n",
       "      <td>1.541</td>\n",
       "      <td>1291</td>\n",
       "      <td>33</td>\n",
       "      <td>3.714</td>\n",
       "      <td>0.105</td>\n",
       "      <td>1</td>\n",
       "    </tr>\n",
       "    <tr>\n",
       "      <th>2</th>\n",
       "      <td>713982108</td>\n",
       "      <td>51</td>\n",
       "      <td>1</td>\n",
       "      <td>3</td>\n",
       "      <td>3</td>\n",
       "      <td>1</td>\n",
       "      <td>3</td>\n",
       "      <td>0</td>\n",
       "      <td>36</td>\n",
       "      <td>4</td>\n",
       "      <td>...</td>\n",
       "      <td>0</td>\n",
       "      <td>3418.0</td>\n",
       "      <td>0</td>\n",
       "      <td>3418.0</td>\n",
       "      <td>2.594</td>\n",
       "      <td>1887</td>\n",
       "      <td>20</td>\n",
       "      <td>2.333</td>\n",
       "      <td>0.000</td>\n",
       "      <td>1</td>\n",
       "    </tr>\n",
       "    <tr>\n",
       "      <th>3</th>\n",
       "      <td>769911858</td>\n",
       "      <td>40</td>\n",
       "      <td>0</td>\n",
       "      <td>4</td>\n",
       "      <td>1</td>\n",
       "      <td>-1</td>\n",
       "      <td>0</td>\n",
       "      <td>0</td>\n",
       "      <td>34</td>\n",
       "      <td>3</td>\n",
       "      <td>...</td>\n",
       "      <td>1</td>\n",
       "      <td>3313.0</td>\n",
       "      <td>2517</td>\n",
       "      <td>796.0</td>\n",
       "      <td>1.405</td>\n",
       "      <td>1171</td>\n",
       "      <td>20</td>\n",
       "      <td>2.333</td>\n",
       "      <td>0.760</td>\n",
       "      <td>1</td>\n",
       "    </tr>\n",
       "    <tr>\n",
       "      <th>4</th>\n",
       "      <td>709106358</td>\n",
       "      <td>40</td>\n",
       "      <td>1</td>\n",
       "      <td>3</td>\n",
       "      <td>0</td>\n",
       "      <td>1</td>\n",
       "      <td>2</td>\n",
       "      <td>0</td>\n",
       "      <td>21</td>\n",
       "      <td>5</td>\n",
       "      <td>...</td>\n",
       "      <td>0</td>\n",
       "      <td>4716.0</td>\n",
       "      <td>0</td>\n",
       "      <td>4716.0</td>\n",
       "      <td>2.175</td>\n",
       "      <td>816</td>\n",
       "      <td>28</td>\n",
       "      <td>2.500</td>\n",
       "      <td>0.000</td>\n",
       "      <td>1</td>\n",
       "    </tr>\n",
       "  </tbody>\n",
       "</table>\n",
       "<p>5 rows × 21 columns</p>\n",
       "</div>"
      ],
      "text/plain": [
       "   CLIENTNUM  Customer_Age  Gender  Dependent_count  Education_Level  \\\n",
       "0  768805383            45       1                3                1   \n",
       "1  818770008            49       0                5                3   \n",
       "2  713982108            51       1                3                3   \n",
       "3  769911858            40       0                4                1   \n",
       "4  709106358            40       1                3                0   \n",
       "\n",
       "   Marital_Status  Income_Category  Card_Category  Months_on_book  \\\n",
       "0               1                2              0              39   \n",
       "1               0                0              0              44   \n",
       "2               1                3              0              36   \n",
       "3              -1                0              0              34   \n",
       "4               1                2              0              21   \n",
       "\n",
       "   Total_Relationship_Count  ...  Contacts_Count_12_mon  Credit_Limit  \\\n",
       "0                         5  ...                      3       12691.0   \n",
       "1                         6  ...                      2        8256.0   \n",
       "2                         4  ...                      0        3418.0   \n",
       "3                         3  ...                      1        3313.0   \n",
       "4                         5  ...                      0        4716.0   \n",
       "\n",
       "   Total_Revolving_Bal  Avg_Open_To_Buy  Total_Amt_Chng_Q4_Q1  \\\n",
       "0                  777          11914.0                 1.335   \n",
       "1                  864           7392.0                 1.541   \n",
       "2                    0           3418.0                 2.594   \n",
       "3                 2517            796.0                 1.405   \n",
       "4                    0           4716.0                 2.175   \n",
       "\n",
       "   Total_Trans_Amt  Total_Trans_Ct  Total_Ct_Chng_Q4_Q1  \\\n",
       "0             1144              42                1.625   \n",
       "1             1291              33                3.714   \n",
       "2             1887              20                2.333   \n",
       "3             1171              20                2.333   \n",
       "4              816              28                2.500   \n",
       "\n",
       "   Avg_Utilization_Ratio  Churn  \n",
       "0                  0.061      1  \n",
       "1                  0.105      1  \n",
       "2                  0.000      1  \n",
       "3                  0.760      1  \n",
       "4                  0.000      1  \n",
       "\n",
       "[5 rows x 21 columns]"
      ]
     },
     "execution_count": 5,
     "metadata": {},
     "output_type": "execute_result"
    }
   ],
   "source": [
    "query = \"SELECT * FROM churn_customers\"\n",
    "df = pd.read_sql(query, con=engine)\n",
    "df.head()"
   ]
  },
  {
   "cell_type": "markdown",
   "id": "fd53ebd9",
   "metadata": {},
   "source": [
    "# Churn Modeling Part 2: Model Evaluation & Comparison"
   ]
  },
  {
   "cell_type": "markdown",
   "id": "e9bcb561",
   "metadata": {},
   "source": [
    "### Step 1: Load Cleaned Dataset and Required Libraries\n",
    "This section prepares the data and imports ML tools."
   ]
  },
  {
   "cell_type": "code",
   "execution_count": 6,
   "id": "aef49911",
   "metadata": {},
   "outputs": [],
   "source": [
    "\n",
    "import pandas as pd\n",
    "import numpy as np\n",
    "from sklearn.model_selection import train_test_split\n",
    "from sklearn.preprocessing import StandardScaler\n",
    "from sklearn.linear_model import LogisticRegression\n",
    "from sklearn.ensemble import RandomForestClassifier\n",
    "from sklearn.tree import DecisionTreeClassifier\n",
    "from sklearn.metrics import classification_report, confusion_matrix, accuracy_score, precision_score, recall_score, f1_score\n",
    "\n",
    "df = pd.read_csv('../data/Credit_Card_Customers_Cleaned.csv')\n"
   ]
  },
  {
   "cell_type": "markdown",
   "id": "b641cc2c",
   "metadata": {},
   "source": [
    "### Step 2: Feature Engineering\n",
    "We create new behavioral features to improve model accuracy."
   ]
  },
  {
   "cell_type": "code",
   "execution_count": 7,
   "id": "bfa83af5",
   "metadata": {},
   "outputs": [],
   "source": [
    "\n",
    "df['Spend_per_Transaction'] = df['Total_Trans_Amt'] / df['Total_Trans_Ct']\n",
    "df['Monthly_Spend'] = df['Total_Trans_Amt'] / df['Months_on_book']\n",
    "df['Utilization_Trend'] = df['Avg_Utilization_Ratio'] * df['Credit_Limit']\n",
    "df['Activity_Ratio'] = df['Total_Ct_Chng_Q4_Q1'] * df['Total_Amt_Chng_Q4_Q1']\n"
   ]
  },
  {
   "cell_type": "markdown",
   "id": "a37cb428",
   "metadata": {},
   "source": [
    "### Step 3: Train-Test Split and Feature Scaling\n",
    "Data is split and scaled for fair training."
   ]
  },
  {
   "cell_type": "code",
   "execution_count": 8,
   "id": "e64549b6",
   "metadata": {},
   "outputs": [],
   "source": [
    "\n",
    "X = df.drop(columns='Churn')\n",
    "y = df['Churn']\n",
    "X_train, X_test, y_train, y_test = train_test_split(X, y, stratify=y, test_size=0.2, random_state=42)\n",
    "scaler = StandardScaler()\n",
    "X_train_scaled = scaler.fit_transform(X_train)\n",
    "X_test_scaled = scaler.transform(X_test)\n"
   ]
  },
  {
   "cell_type": "markdown",
   "id": "63094304",
   "metadata": {},
   "source": [
    "### Step 4: Train Models\n",
    "We train Logistic Regression, Decision Tree, and Random Forest models."
   ]
  },
  {
   "cell_type": "code",
   "execution_count": 9,
   "id": "41c79abd",
   "metadata": {},
   "outputs": [],
   "source": [
    "\n",
    "lr = LogisticRegression()\n",
    "dt = DecisionTreeClassifier()\n",
    "rf = RandomForestClassifier()\n",
    "\n",
    "lr.fit(X_train_scaled, y_train)\n",
    "dt.fit(X_train, y_train)\n",
    "rf.fit(X_train, y_train)\n",
    "\n",
    "lr_preds = lr.predict(X_test_scaled)\n",
    "dt_preds = dt.predict(X_test)\n",
    "rf_preds = rf.predict(X_test)\n"
   ]
  },
  {
   "cell_type": "markdown",
   "id": "e7f6231f",
   "metadata": {},
   "source": [
    "### Step 5: Evaluate Model Performance\n",
    "We compare models based on accuracy, recall, and F1 score."
   ]
  },
  {
   "cell_type": "code",
   "execution_count": 10,
   "id": "a28c875d",
   "metadata": {},
   "outputs": [
    {
     "data": {
      "application/vnd.microsoft.datawrangler.viewer.v0+json": {
       "columns": [
        {
         "name": "index",
         "rawType": "object",
         "type": "string"
        },
        {
         "name": "Accuracy",
         "rawType": "float64",
         "type": "float"
        },
        {
         "name": "Recall",
         "rawType": "float64",
         "type": "float"
        },
        {
         "name": "F1 Score",
         "rawType": "float64",
         "type": "float"
        }
       ],
       "conversionMethod": "pd.DataFrame",
       "ref": "22b9b491-c13f-4159-859e-aafdc6955130",
       "rows": [
        [
         "Random Forest",
         "0.9610069101678184",
         "0.9829512051734274",
         "0.9769208296815659"
        ],
        [
         "Decision Tree",
         "0.941263573543929",
         "0.9606114050558495",
         "0.9648656628284618"
        ],
        [
         "Logistic Regression",
         "0.9131293188548865",
         "0.969429747207525",
         "0.9493379389752447"
        ]
       ],
       "shape": {
        "columns": 3,
        "rows": 3
       }
      },
      "text/html": [
       "<div>\n",
       "<style scoped>\n",
       "    .dataframe tbody tr th:only-of-type {\n",
       "        vertical-align: middle;\n",
       "    }\n",
       "\n",
       "    .dataframe tbody tr th {\n",
       "        vertical-align: top;\n",
       "    }\n",
       "\n",
       "    .dataframe thead th {\n",
       "        text-align: right;\n",
       "    }\n",
       "</style>\n",
       "<table border=\"1\" class=\"dataframe\">\n",
       "  <thead>\n",
       "    <tr style=\"text-align: right;\">\n",
       "      <th></th>\n",
       "      <th>Accuracy</th>\n",
       "      <th>Recall</th>\n",
       "      <th>F1 Score</th>\n",
       "    </tr>\n",
       "  </thead>\n",
       "  <tbody>\n",
       "    <tr>\n",
       "      <th>Random Forest</th>\n",
       "      <td>0.961007</td>\n",
       "      <td>0.982951</td>\n",
       "      <td>0.976921</td>\n",
       "    </tr>\n",
       "    <tr>\n",
       "      <th>Decision Tree</th>\n",
       "      <td>0.941264</td>\n",
       "      <td>0.960611</td>\n",
       "      <td>0.964866</td>\n",
       "    </tr>\n",
       "    <tr>\n",
       "      <th>Logistic Regression</th>\n",
       "      <td>0.913129</td>\n",
       "      <td>0.969430</td>\n",
       "      <td>0.949338</td>\n",
       "    </tr>\n",
       "  </tbody>\n",
       "</table>\n",
       "</div>"
      ],
      "text/plain": [
       "                     Accuracy    Recall  F1 Score\n",
       "Random Forest        0.961007  0.982951  0.976921\n",
       "Decision Tree        0.941264  0.960611  0.964866\n",
       "Logistic Regression  0.913129  0.969430  0.949338"
      ]
     },
     "execution_count": 10,
     "metadata": {},
     "output_type": "execute_result"
    }
   ],
   "source": [
    "\n",
    "model_metrics = {\n",
    "    'Logistic Regression': {\n",
    "        'Accuracy': accuracy_score(y_test, lr_preds),\n",
    "        'Recall': recall_score(y_test, lr_preds),\n",
    "        'F1 Score': f1_score(y_test, lr_preds)\n",
    "    },\n",
    "    'Decision Tree': {\n",
    "        'Accuracy': accuracy_score(y_test, dt_preds),\n",
    "        'Recall': recall_score(y_test, dt_preds),\n",
    "        'F1 Score': f1_score(y_test, dt_preds)\n",
    "    },\n",
    "    'Random Forest': {\n",
    "        'Accuracy': accuracy_score(y_test, rf_preds),\n",
    "        'Recall': recall_score(y_test, rf_preds),\n",
    "        'F1 Score': f1_score(y_test, rf_preds)\n",
    "    }\n",
    "}\n",
    "\n",
    "pd.DataFrame(model_metrics).T.sort_values(by='F1 Score', ascending=False)\n"
   ]
  },
  {
   "cell_type": "markdown",
   "id": "44af9293",
   "metadata": {},
   "source": [
    "### Step 6: Plot Feature Importances\n",
    "We use Random Forest to determine which features impact churn prediction the most."
   ]
  },
  {
   "cell_type": "code",
   "execution_count": 11,
   "id": "ab2e30b3",
   "metadata": {},
   "outputs": [
    {
     "data": {
      "image/png": "[encoded data removed]",
      "text/plain": [
       "<Figure size 1000x600 with 1 Axes>"
      ]
     },
     "metadata": {},
     "output_type": "display_data"
    }
   ],
   "source": [
    "\n",
    "import seaborn as sns\n",
    "import matplotlib.pyplot as plt\n",
    "\n",
    "importances = rf.feature_importances_\n",
    "features = X.columns\n",
    "feature_df = pd.DataFrame({'Feature': features, 'Importance': importances})\n",
    "feature_df = feature_df.sort_values(by='Importance', ascending=False).head(10)\n",
    "\n",
    "plt.figure(figsize=(10, 6))\n",
    "sns.barplot(data=feature_df, x='Importance', y='Feature')\n",
    "plt.title('Top 10 Important Features (Random Forest)')\n",
    "plt.tight_layout()\n",
    "plt.show()\n"
   ]
  }
 ],
 "metadata": {
  "kernelspec": {
   "display_name": "dev",
   "language": "python",
   "name": "python3"
  },
  "language_info": {
   "codemirror_mode": {
    "name": "ipython",
    "version": 3
   },
   "file_extension": ".py",
   "mimetype": "text/x-python",
   "name": "python",
   "nbconvert_exporter": "python",
   "pygments_lexer": "ipython3",
   "version": "3.10.15"
  }
 },
 "nbformat": 4,
 "nbformat_minor": 5
}
